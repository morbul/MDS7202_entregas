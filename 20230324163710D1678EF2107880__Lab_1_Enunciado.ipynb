{
  "cells": [
    {
      "cell_type": "markdown",
      "metadata": {
        "id": "J4_IcuuKZj9Y"
      },
      "source": [
        "<h1><center>Laboratorio 1: Git 👾</center></h1>\n",
        "\n",
        "<center><strong>MDS7202: Laboratorio de Programación Científica para Ciencia de Datos - Otoño 2023</strong></center>"
      ]
    },
    {
      "cell_type": "markdown",
      "metadata": {
        "id": "AEXIACc7aADv"
      },
      "source": [
        "### Cuerpo Docente:\n",
        "\n",
        "- Profesores: Pablo Badilla, Ignacio Meza D.\n",
        "- Auxiliar: Sebastián Tinoco\n",
        "- Ayudante: Diego Cortez"
      ]
    },
    {
      "cell_type": "markdown",
      "metadata": {
        "id": "0HgMMyoCaG8X"
      },
      "source": [
        "### Equipo: SUPER IMPORTANTE - notebooks sin nombre no serán revisados\n",
        "\n",
        "- Nombre de alumno 1:\n",
        "- Nombre de alumno 2:"
      ]
    },
    {
      "cell_type": "markdown",
      "metadata": {
        "id": "fz77X6glaK6y"
      },
      "source": [
        "### **Link de repositorio de GitHub:** `...`"
      ]
    },
    {
      "cell_type": "markdown",
      "metadata": {
        "id": "rRwqaxIZaNx3"
      },
      "source": [
        "## Reglas:\n",
        "\n",
        "- Fecha de entrega: 6 días desde la publicación, 3 días de atraso con 1 punto de descuento c/u. Pueden utilizar días bonus sin descuento.\n",
        "- **Grupos de 2 personas**.\n",
        "- **Ausentes** deberán realizar la actividad solos. \n",
        "- Cualquier duda fuera del horario de clases al foro. Mensajes al equipo docente serán respondidos por este medio.\n",
        "- <u>Prohibidas las copias</u>. Cualquier intento de copia será debidamente penalizado con el reglamento de la escuela.\n",
        "- Pueden usar cualquer material del curso que estimen conveniente.\n",
        "- Asistencia obligatoria a instrucciones del lab (viernes 16.15). Luego, pueden quedarse trabajando en las salas o irse."
      ]
    },
    {
      "cell_type": "markdown",
      "metadata": {
        "id": "bmToL27JaSrf"
      },
      "source": [
        "## Objetivos del lab:\n",
        "\n",
        "\n",
        "- Conocer los elementos básicos que conformar `Git`\n",
        "- Clonar repositorios\n",
        "- Identificar ramas de un repositorio\n",
        "- Reconocer y solucionar problemas entre ramas\n",
        "- Subir cambios a un repositorio"
      ]
    },
    {
      "cell_type": "markdown",
      "metadata": {
        "id": "bvnPCvrVbJLK"
      },
      "source": [
        "## Parte 1: Conocimiento Teórico (2 pts)"
      ]
    },
    {
      "cell_type": "markdown",
      "metadata": {
        "id": "JHl-24XnbNLF"
      },
      "source": [
        "Responda las siguientes preguntas (0.2 pts c/u):\n",
        "\n",
        "1. ¿Qué es `Git` y cómo se relaciona con el control de versiones?\n",
        "\n",
        "2. Nombre y explique 3 diferencias entre `Git` y `Github`.\n",
        "\n",
        "3. ¿Qué es un `hash` y cómo se representa en un `commit`? De un ejemplo.\n",
        "\n",
        "4. ¿Que elementos componen a la estructura de datos de `Git`?\n",
        "\n",
        "5. ¿Que comandos de `Git` sirven para crear un repositorio y hacer seguimiento a cambios en los archivos?"
      ]
    },
    {
      "cell_type": "markdown",
      "metadata": {
        "id": "2tXCSkf0caG8"
      },
      "source": [
        "<code>Escriba sus respuestas acá:</code>\n",
        "\n",
        "1: Git es un sistema de control de versiones(software)\n",
        "\n",
        "2: ->Lugar: git es se maneja de manera local en cada computador, github(es cloud) funciona a modo de repositorio para poder integrar estos ambientes locales,\n",
        " \n",
        "   ->Modo de uso: interfaz grafica(ghub) vs consola de comandos(git)\n",
        "   \n",
        "   ->Funcionalidades: git no entrega caracteristicas extas sobre el repositorio, quien se encarga de hacer eso ejemplo: VCS es github\n",
        "\n",
        "3: Un hash es un numero hexadecimal el cual es la dirección de algo en memoria, un commit esta referido por un hash al igual que un BLOB o un tree mediante el codec SHA1\n",
        "\n",
        "4: Tree -> BloB -> commit, donde los commit vendrian sieno archivos modificados que se ingresan y estos son almacenados en blob los cuales llevan los cambios\n",
        "\n",
        "5:   git clone o git init para uno nuevo  y git diff\n",
        "\n"
      ]
    },
    {
      "cell_type": "markdown",
      "metadata": {
        "id": "MACccbP4gU43"
      },
      "source": [
        "Responda si las siguientes afirmaciones son Verdaderas (V) o Falsas (F). Justifique en **cualquiera** de los casos (0.2 pts c/u):\n",
        "\n",
        "\n",
        "6. `Git` siempre resuelve automáticamente los problemas de lineas al hacer merge entre diferentes ramas.\n",
        "7. Ejecutar `git pull` sobre un repositorio es equivalente a ejecutar `git clone`.\n",
        "8. Cada miembro del equipo trabaja en la misma copia del código fuente usando `Git`.\n",
        "9. En `Git` es posible deshacer cambios y volver a versiones anteriores del código.\n",
        "10. El comando `git commit` se utiliza para enviar cambios al repositorio remoto."
      ]
    },
    {
      "cell_type": "markdown",
      "metadata": {
        "id": "DFnmCToOgeM3"
      },
      "source": [
        "<code>Escriba sus respuestas acá:</code>\n",
        "\n",
        "\n",
        "6: Falso, si 2 ramas editaron la misma linea de codigo se genera un conflicto que git no puede resolver.\n",
        "\n",
        "7: Falso, git pull actualiza los cambios que existan. git clone clona todo el repositorio de nuevo.\n",
        "\n",
        "8: Falso?, la copia es distinta dado que se vuelve local\n",
        "\n",
        "9: Verdadero\n",
        "\n",
        "10: Verdadero"
      ]
    },
    {
      "cell_type": "markdown",
      "metadata": {
        "id": "i7Em9JkbbRLo"
      },
      "source": [
        "## Parte 2: Creando una presentación personal (2 pts)"
      ]
    },
    {
      "cell_type": "markdown",
      "metadata": {
        "id": "XWIHfyrlbYOJ"
      },
      "source": [
        "Para empezar a \"*soltar las manos*\" con `Git`, se les encomienda crear un repositorio con una presentación personal. El repositorio debe contener un breve resumen de quienes son ustedes, sus gustos, experiencias, y cualquier otro detalle interesante que ustedes consideren relevante. \n",
        "\n",
        "Para realizar esto, deben seguir los siguientes pasos:\n",
        "\n",
        "1. Contar con una cuenta de github (1 por persona)\n",
        "2. Crear un repositorio con su nombre de usuario\n",
        "3. Crear y modificar un archivo `readme.md` con la información que ustedes deseen compartir.\n",
        "\n",
        "A modo de ejemplo, pueden guiarse por esta *suculenta* [presentación](https://github.com/pbadillatorrealba/pbadillatorrealba).\n",
        "\n",
        "*Hint: Una buena opción es usar templates de presentación personal que encuentren en Google, como los que ofrece este [sitio](https://durgeshsamariya.github.io/awesome-github-profile-readme-templates/#/)*.\n",
        "\n",
        "**Entregable:**\n",
        "\n",
        "Enlace al repositorio con la presentación personal. \n",
        "\n",
        "IMPORTANTE: DEBEN ADJUNTAR UN ENLACE POR PERSONA"
      ]
    },
    {
      "cell_type": "markdown",
      "metadata": {
        "id": "IIkWyl9tf0Sg"
      },
      "source": [
        "<code>Link Presentacion 1:</code>\n",
        "https://github.com/morbul\n",
        "<code>Link Presentacion 2:</code>"
      ]
    },
    {
      "cell_type": "markdown",
      "metadata": {
        "id": "CAzXOwvDY-IG"
      },
      "source": [
        "## Parte 3: Trabajando sobre un repositorio externo (2 pts)"
      ]
    },
    {
      "cell_type": "markdown",
      "metadata": {
        "id": "84Yjuxxvdfzh"
      },
      "source": [
        "Tras muchos dolores de cabeza, un grupo de entusiastas académicos decidieron aprender sobre `Git` y así trabajar colaborativamente de forma más ordenada y eficiente. Después de una infinidad de intentos y aprender de sus errores \"*a la mala*\", los académicos lograron levantar un [repositorio](https://github.com/MDS7202/lab1) en `Github`. Usando el repositorio de los académicos, responda las siguientes preguntas (incluya también los comandos en `Git` ocupados):"
      ]
    },
    {
      "cell_type": "markdown",
      "metadata": {
        "id": "BFRnAw0rfguR"
      },
      "source": [
        "1. Clone el repositorio a su ambiente local. (0.25 pts)"
      ]
    },
    {
      "cell_type": "markdown",
      "metadata": {
        "id": "KXro32yBeilN"
      },
      "source": [
        "<code>Escriba sus respuestas acá:</code>\n",
        "\n",
        "$ git clone https://github.com/MDS7202/lab1"
      ]
    },
    {
      "cell_type": "markdown",
      "metadata": {
        "id": "q2qmiDyjt2M_"
      },
      "source": [
        "2. Inspeccione brevemente el repositorio: ¿Cual es el objetivo del proyecto? Explique brevemente la estructura del proyecto, asi como también de cada componente que lo conforma. (0.25 pts)"
      ]
    },
    {
      "cell_type": "markdown",
      "metadata": {
        "id": "aBHpR8VTftkT"
      },
      "source": [
        "<code>Escriba sus respuestas acá:</code>\n",
        "El objetivo es poder enseñar que sonido hace cada animal que se tiene en cuenta. Tenemos una funcion de animales donde tenemos algunos de sus sonidos y una funcion main que recibe el input de que animal se consulta"
      ]
    },
    {
      "cell_type": "markdown",
      "metadata": {
        "id": "XFwqcpLZfylf"
      },
      "source": [
        "3. Identifique los últimos cambios al repositorio, reconociendo las principales ramas de trabajo. ¿Son informativos los `commit` realizados? (0.25 pts)\n",
        "*Hint: Se recomienda usar los argumentos `all`, `graph` y `decorate`*"
      ]
    },
    {
      "cell_type": "markdown",
      "metadata": {
        "id": "cmWfXBkOhog0"
      },
      "source": [
        "<code>Escriba sus respuestas acá:</code>\n",
        "1. * commit b262d86411a6b017e99bf0731e33a6787739247c      el primer commit del repo\n",
        ".... \n",
        "      primer commit\n",
        "\n",
        "2.  * commit c8b1a62d7299552b0654f930d695b33109214111c    segundo commit nos dice que agrega la funcion\n",
        "|\n",
        "|     se agrega funcion \n",
        "\n",
        "\n",
        "3.* commit 25543a3baf77292baf849726784ca005473acab1 (origin/fix-ifs)   Tercer commit la separacion nos indica que viene de otro usuario en otra rama, no se ha realizado el merch a main\n",
        "|\n",
        "|/* commit 362fe21ee44f53ee944cee4ba484600308f83d78 (HEAD -> main, origin/new_features, origin/main, origin/HEAD)\n",
        "|\n",
        "|       Se separa el proyecto en modulos\n",
        "|\n"
      ]
    },
    {
      "cell_type": "markdown",
      "metadata": {
        "id": "Vqbj9HdXrUnN"
      },
      "source": [
        "4. Uno de los académicos se da cuenta que la rama principal de trabajo no se ejecuta correctamente para todos los argumentos. Señale el error en el código e identifique a la persona que lo cometió usando `git blame` (0.25 pts)\n",
        "\n",
        "*Hint: Le puede ser útil esta [documentación](https://www.atlassian.com/es/git/tutorials/inspecting-a-repository/git-blame).*"
      ]
    },
    {
      "cell_type": "markdown",
      "metadata": {
        "id": "5ajhV2Iar3tV"
      },
      "source": [
        "<code>Escriba sus respuestas acá:</code>\n",
        "\n",
        "362fe21e (mezosky 2023-03-23 21:47:34 -0300 6)     animales(animal)"
      ]
    },
    {
      "cell_type": "markdown",
      "metadata": {
        "id": "m8J3uE7MhqTA"
      },
      "source": [
        "5. Busque los siguientes `commit`:\n",
        "\n",
        "- `c8b1a62d7299552b0654f930d695b33109214111`\n",
        "- `362fe21ee44f53ee944cee4ba484600308f83d78`\n",
        "- `25543a3baf77292baf849726784ca005473acab1`\n",
        "\n",
        "¿Qué diferencias existen entre cada uno? (0.25 pts)"
      ]
    },
    {
      "cell_type": "markdown",
      "metadata": {
        "id": "sNHnZsgIitGh"
      },
      "source": [
        "<code>Escriba sus respuestas acá:</code>\n",
        "\n",
        "Respondi esto en la pregunta 3"
      ]
    },
    {
      "cell_type": "markdown",
      "metadata": {
        "id": "WQIPbfNCgpxC"
      },
      "source": [
        "6. Realice una `merge` de la rama `fix-ifs` con la rama `main` y describa lo que ocurre. ¿Qué parte del código podría estar ocasionando esto? (0.25 pts)"
      ]
    },
    {
      "cell_type": "markdown",
      "metadata": {
        "id": "ypH_6lL5ioZz"
      },
      "source": [
        "<code>Escriba sus respuestas acá:</code>\n",
        "\n",
        "Se genera un conflicto dado que en la rama fix se modifico una linea (9 y 11) que ya no existen en Main dado que esa parte del codigo se movio a otro archivo"
      ]
    },
    {
      "cell_type": "markdown",
      "metadata": {
        "id": "GYfODCjeivkU"
      },
      "source": [
        "7. Cree una rama nueva y proponga una solución al problema anterior, adjuntando el código corregido y señalando las líneas modificadas. (0.5 pts)"
      ]
    },
    {
      "cell_type": "markdown",
      "metadata": {
        "id": "8heBxDU9iziT"
      },
      "source": [
        "<code>Escriba sus respuestas acá:</code>\n",
        "Se crea otra rama de main y en el archivo de animales se modifica lo que se intento hacer en main.py\n",
        "    \n",
        "    if input.lower() == 'gato':\n",
        "        print('miau')\n",
        "    if input.lower() == 'perro':\n",
        "    -> elif input.lower() == 'perro':\n",
        "        print('guau')\n",
        "    ->elif input.lower() == 'fox':\n",
        "         print('https://www.youtube.com/watch?v=jofNR_WkoCE')\n",
        "    else:\n",
        "        raise ValueError('animal no reconocido :(')"
      ]
    },
    {
      "cell_type": "markdown",
      "metadata": {
        "id": "Av8ebB9jkALO"
      },
      "source": [
        "## Fin"
      ]
    },
    {
      "cell_type": "markdown",
      "metadata": {
        "id": "aQqZT9fSkBK8"
      },
      "source": [
        "Eso ha sido todo por ahora!! Esperamos que este laboratorio les haya gustado y servido para trabajar con `Git`. Recuerden los dias de plazo que tienen disponibles y que ante cualquier duda no duden en contactar al equipo docente. \n",
        "\n",
        "Nos vemos!! \n",
        "\n",
        "<img src=https://media.tenor.com/OYLdav9k9LkAAAAd/kitty-cat.gif height=300>\n"
      ]
    }
  ],
  "metadata": {
    "colab": {
      "provenance": []
    },
    "kernelspec": {
      "display_name": "Python 3",
      "name": "python3"
    },
    "language_info": {
      "name": "python"
    }
  },
  "nbformat": 4,
  "nbformat_minor": 0
}
